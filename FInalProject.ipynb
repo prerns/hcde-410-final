{
 "cells": [
  {
   "cell_type": "markdown",
   "id": "234f22e2-e2ef-4127-8b9b-9aa1687a3dd6",
   "metadata": {},
   "source": [
    "# Motivation and Problem Statment"
   ]
  },
  {
   "cell_type": "markdown",
   "id": "234a374b-8757-42fe-90cc-e8c2e1fdeb0f",
   "metadata": {},
   "source": [
    "I want to do this analysis because I want to see if there are any trends related to the top music of each year, and through the years. This could include the genre of top songs over the years, the tempo or duration. This is interesting because it breaks into how peoples taste in music may have changed over the years and what those liked were in each specific year and help new artists know what to possible integrate into their work to have success. I hope to learn what the similarities and trends are that make the top songs each year."
   ]
  },
  {
   "cell_type": "markdown",
   "id": "53246338-91f0-467d-a739-980a90cced8b",
   "metadata": {},
   "source": [
    "# About the data"
   ]
  },
  {
   "cell_type": "markdown",
   "id": "f231a890-8257-43ee-905f-762e09f60314",
   "metadata": {},
   "source": [
    "My dataset contains metadata on the top hits of songs from Spotify in the years 2010-2019 <https://www.kaggle.com/datasets/muhmores/spotify-top-100-songs-of-20152019n>. The data in this dataset is captured straight from Spotify itself which has open APIs for developers to use and get data from Spotify. I looked into the Spotify terms and conditions <https://www.spotify.com/us/legal/end-user-agreement/> as well as the Spotify for Developers terms and conditions <https://developer.spotify.com/terms/> and from what I can figure out this has a License to Developer, I would more support in this area thought because I’m not sure if I’m correct or not. This dataset is perfect for my research goal because it provides all the metadata I would need and more to be able to find potential trends in the music that would answer my questions. There aren’t really any ethical concerns with this dataset because it regards open access music."
   ]
  },
  {
   "cell_type": "markdown",
   "id": "a13a08c2-dc4e-40b1-be4d-36558f499493",
   "metadata": {},
   "source": [
    "# Unknowns"
   ]
  },
  {
   "cell_type": "markdown",
   "id": "b61ad691-d6e3-4d6c-af46-d5c3f02233dc",
   "metadata": {},
   "source": [
    "I think this project is very doable by the end of the quarter and in excited to be working on it.\n",
    "\n"
   ]
  },
  {
   "cell_type": "markdown",
   "id": "dc92ed6a-66ee-416a-be4a-2837b6baf7c5",
   "metadata": {},
   "source": [
    "# Research Questions"
   ]
  },
  {
   "cell_type": "markdown",
   "id": "1818a575-9805-4513-b4af-41c7fe61eaa0",
   "metadata": {},
   "source": [
    "What meta data contributes to a song being a top hit? Is there a relationship between bpm and a top hit song? Does the danceability score of a song have anything to do with being a top hit? Is duration of a song an indicator of a top song? Does each year have different aspects that make the top songs for each year?"
   ]
  },
  {
   "cell_type": "markdown",
   "id": "e71aec6f-08b7-4a08-8ab9-983d2c1d8317",
   "metadata": {
    "tags": []
   },
   "source": [
    "# Background Research"
   ]
  },
  {
   "cell_type": "markdown",
   "id": "4774afba-0f8d-400c-83b1-99196f705e0c",
   "metadata": {},
   "source": [
    "Columbia Business School conducted research that looked at different aspects of the top song of each year for 60 years (https://www8.gsb.columbia.edu/articles/projects/what-makes-a-hit/). They discovered that each year or era has different characteristics that made it a top song. Some years high energy was the common characteristic. Other years acousticness was the common factor. Overall, they said that ““Breakout songs — those that reach the very top of the charts — simultaneously conform to prevailing musical feature profiles while exhibiting some degree of individuality or novelty,”. The same result was found in a similar study done by a UK university where they used AI to classify top songs and learn what made them successful and create an app that could tell you if the song would be a hit or not https://www.latimes.com/archives/la-xpm-2012-feb-03-la-sci-hit-songs-computer-20120204-story.html ). They also found that each year and era had different aspects to the popular songs. They found for example that “Danceability was not important in distinguishing top and bottom songs until the late ‘70s.But from 1980 it became really important, maybe in relation to the rise of disco, electronic dance music and other later music.”"
   ]
  },
  {
   "cell_type": "markdown",
   "id": "8f9ae384-8936-4db8-8f22-3783b6256243",
   "metadata": {},
   "source": [
    "This previous research makes me curious what kind of new trends have come in the more recent years for music. I want to see what trends have changed in the most current past years because I have lived through those years as well and it would be interesting to see if I agree with the change of music taste the results would show. "
   ]
  },
  {
   "cell_type": "markdown",
   "id": "e21ddcfe-01fb-4d9c-8f66-1c4143e19be1",
   "metadata": {},
   "source": [
    "# Methodology"
   ]
  },
  {
   "cell_type": "markdown",
   "id": "b777bd13-653e-4451-bc19-44c3bc4fca44",
   "metadata": {},
   "source": [
    "For each year I want to graph the mean bpm, energy, danceability, duration, liveliness and acousticness for all the top songs of that year and see the trend of each factor throughout the years. I will use a line graph for this.\n",
    "- This will help me understand if certain factors have grown in importance over the years while others have decreased in relation to each other based on the lines\n"
   ]
  },
  {
   "cell_type": "markdown",
   "id": "50d9def7-32a8-4387-bb5a-bb336be0450a",
   "metadata": {},
   "source": [
    "Then for each of those song factors I want to create a bar chart for each year and graph the mean value for each year (so 6 different graphs). \n",
    "- This will help me understand the variability of one factor at a time throughout the years based on bar height"
   ]
  },
  {
   "cell_type": "markdown",
   "id": "4707df72-c489-4f25-b758-446c40fe25c6",
   "metadata": {},
   "source": [
    "For 2019 specifically, I want to graph each factor for each song on the list and see if there are similarities between all the top songs for specific year. I will use a scatter plot  to plat each song for each factor. \n",
    "- This will allow me to see whether top songs within the same year and more alike or different from each other based on clutters of dots. "
   ]
  },
  {
   "cell_type": "markdown",
   "id": "39b639d4-76fb-4b40-8c03-c8d7e486cbd9",
   "metadata": {},
   "source": [
    "If time permits I want to create a regression model that relates multiple different factors to the rank of the song. For example for every 30 beat increase in bpm, the songs will increase in rank by 1. \n",
    "- This will be insightful in seeing a linear formula that may be applied to see ranking of songs based on different factors of songs. "
   ]
  },
  {
   "cell_type": "markdown",
   "id": "04507d2a-f016-4158-9c73-75f52781770f",
   "metadata": {},
   "source": [
    "# Now to answer the questions..."
   ]
  },
  {
   "cell_type": "markdown",
   "id": "71cdbb0b-6cf7-478f-a53c-acb2c6d880a4",
   "metadata": {},
   "source": [
    "**I want to start by first importing the packages that I will use to analyze my data.**"
   ]
  },
  {
   "cell_type": "code",
   "execution_count": 2,
   "id": "f97b6fb8-0ad0-47f0-8307-228b91212881",
   "metadata": {},
   "outputs": [],
   "source": [
    "import pandas as pd\n",
    "import matplotlib.pyplot as plt"
   ]
  },
  {
   "cell_type": "markdown",
   "id": "3411e335-4daa-4142-8416-42b281d43559",
   "metadata": {},
   "source": [
    "**Next I am going to import my data in as a pandas dataframe. I will also take a look at the first two columns and see how the information is presented.**"
   ]
  },
  {
   "cell_type": "code",
   "execution_count": 3,
   "id": "364174a6-232d-428a-902d-7073a5f19ca9",
   "metadata": {},
   "outputs": [
    {
     "data": {
      "text/html": [
       "<div>\n",
       "<style scoped>\n",
       "    .dataframe tbody tr th:only-of-type {\n",
       "        vertical-align: middle;\n",
       "    }\n",
       "\n",
       "    .dataframe tbody tr th {\n",
       "        vertical-align: top;\n",
       "    }\n",
       "\n",
       "    .dataframe thead th {\n",
       "        text-align: right;\n",
       "    }\n",
       "</style>\n",
       "<table border=\"1\" class=\"dataframe\">\n",
       "  <thead>\n",
       "    <tr style=\"text-align: right;\">\n",
       "      <th></th>\n",
       "      <th>title</th>\n",
       "      <th>artist</th>\n",
       "      <th>top genre</th>\n",
       "      <th>year released</th>\n",
       "      <th>added</th>\n",
       "      <th>bpm</th>\n",
       "      <th>nrgy</th>\n",
       "      <th>dnce</th>\n",
       "      <th>dB</th>\n",
       "      <th>live</th>\n",
       "      <th>val</th>\n",
       "      <th>dur</th>\n",
       "      <th>acous</th>\n",
       "      <th>spch</th>\n",
       "      <th>pop</th>\n",
       "      <th>top year</th>\n",
       "      <th>artist type</th>\n",
       "    </tr>\n",
       "  </thead>\n",
       "  <tbody>\n",
       "    <tr>\n",
       "      <th>0</th>\n",
       "      <td>STARSTRUKK (feat. Katy Perry)</td>\n",
       "      <td>3OH!3</td>\n",
       "      <td>dance pop</td>\n",
       "      <td>2009.0</td>\n",
       "      <td>2022‑02‑17</td>\n",
       "      <td>140.0</td>\n",
       "      <td>81.0</td>\n",
       "      <td>61.0</td>\n",
       "      <td>-6.0</td>\n",
       "      <td>23.0</td>\n",
       "      <td>23.0</td>\n",
       "      <td>203.0</td>\n",
       "      <td>0.0</td>\n",
       "      <td>6.0</td>\n",
       "      <td>70.0</td>\n",
       "      <td>2010.0</td>\n",
       "      <td>Duo</td>\n",
       "    </tr>\n",
       "    <tr>\n",
       "      <th>1</th>\n",
       "      <td>My First Kiss (feat. Ke$ha)</td>\n",
       "      <td>3OH!3</td>\n",
       "      <td>dance pop</td>\n",
       "      <td>2010.0</td>\n",
       "      <td>2022‑02‑17</td>\n",
       "      <td>138.0</td>\n",
       "      <td>89.0</td>\n",
       "      <td>68.0</td>\n",
       "      <td>-4.0</td>\n",
       "      <td>36.0</td>\n",
       "      <td>83.0</td>\n",
       "      <td>192.0</td>\n",
       "      <td>1.0</td>\n",
       "      <td>8.0</td>\n",
       "      <td>68.0</td>\n",
       "      <td>2010.0</td>\n",
       "      <td>Duo</td>\n",
       "    </tr>\n",
       "  </tbody>\n",
       "</table>\n",
       "</div>"
      ],
      "text/plain": [
       "                           title artist  top genre  year released       added  \\\n",
       "0  STARSTRUKK (feat. Katy Perry)  3OH!3  dance pop         2009.0  2022‑02‑17   \n",
       "1    My First Kiss (feat. Ke$ha)  3OH!3  dance pop         2010.0  2022‑02‑17   \n",
       "\n",
       "     bpm  nrgy  dnce   dB  live   val    dur  acous  spch   pop  top year  \\\n",
       "0  140.0  81.0  61.0 -6.0  23.0  23.0  203.0    0.0   6.0  70.0    2010.0   \n",
       "1  138.0  89.0  68.0 -4.0  36.0  83.0  192.0    1.0   8.0  68.0    2010.0   \n",
       "\n",
       "  artist type  \n",
       "0         Duo  \n",
       "1         Duo  "
      ]
     },
     "execution_count": 3,
     "metadata": {},
     "output_type": "execute_result"
    }
   ],
   "source": [
    "spotify = pd.read_csv(\"../hcde-410-final/Spotify 2010 - 2019 Top 100.csv\")\n",
    "spotify.head(2)"
   ]
  },
  {
   "cell_type": "markdown",
   "id": "b1ecfb48-bed7-4e3f-8296-1cf076831b54",
   "metadata": {},
   "source": [
    "**Because this dataset has all the data in one set for all the years, 2010-2019, and I want to analyze trends throughout the years I will split the dataset by years and create new dataframes for each year. This will make it so that I can analyze the information I want for each year.**"
   ]
  },
  {
   "cell_type": "code",
   "execution_count": 4,
   "id": "bc5eca31-1033-408e-ae2f-f775f6e712e5",
   "metadata": {},
   "outputs": [],
   "source": [
    "top_2010 = spotify[spotify['year released'] == 2010].reset_index()\n",
    "top_2011 = spotify[spotify['year released'] == 2011].reset_index()\n",
    "top_2012 = spotify[spotify['year released'] == 2012].reset_index()\n",
    "top_2013 = spotify[spotify['year released'] == 2013].reset_index()\n",
    "top_2014 = spotify[spotify['year released'] == 2014].reset_index()\n",
    "top_2015 = spotify[spotify['year released'] == 2015].reset_index()\n",
    "top_2016 = spotify[spotify['year released'] == 2016].reset_index()\n",
    "top_2017 = spotify[spotify['year released'] == 2017].reset_index()\n",
    "top_2018 = spotify[spotify['year released'] == 2018].reset_index()\n",
    "top_2019 = spotify[spotify['year released'] == 2019].reset_index()"
   ]
  },
  {
   "cell_type": "markdown",
   "id": "f3a842b8-3ffd-408e-a3c8-e809c49b0492",
   "metadata": {},
   "source": [
    "**Now I cen begin my analysis**"
   ]
  },
  {
   "cell_type": "markdown",
   "id": "de833803-87a2-4572-8c11-9e03cf058846",
   "metadata": {},
   "source": [
    "## Mean BPM Over the Years"
   ]
  },
  {
   "cell_type": "markdown",
   "id": "fc7a9464-d3e5-4b75-9cad-a13807e7b6fe",
   "metadata": {},
   "source": [
    "**I first want to look at how BPM in the top songs has changed over the years. I will do this by computing the mean BPM over all the tops songs for each year and graph them together.**"
   ]
  },
  {
   "cell_type": "code",
   "execution_count": 5,
   "id": "dc20b3ae-7639-491c-a2e3-9d53940ab4ca",
   "metadata": {},
   "outputs": [
    {
     "data": {
      "image/png": "[encoded data removed]",
      "text/plain": [
       "<Figure size 1296x360 with 1 Axes>"
      ]
     },
     "metadata": {
      "needs_background": "light"
     },
     "output_type": "display_data"
    }
   ],
   "source": [
    "_ = plt.figure(figsize = (18,5))\n",
    "plt.ylim(100, 130)\n",
    "_ = plt.bar('2010', top_2010.bpm.mean())\n",
    "_ = plt.bar('2011', top_2011.bpm.mean())\n",
    "_ = plt.bar('2012', top_2012.bpm.mean())\n",
    "_ = plt.bar('2013', top_2013.bpm.mean())\n",
    "_ = plt.bar('2014', top_2014.bpm.mean())\n",
    "_ = plt.bar('2015', top_2015.bpm.mean())\n",
    "_ = plt.bar('2016', top_2016.bpm.mean())\n",
    "_ = plt.bar('2017', top_2017.bpm.mean())\n",
    "_ = plt.bar('2018', top_2018.bpm.mean())\n",
    "_ = plt.bar('2019', top_2019.bpm.mean())\n",
    "_ = plt.title('Mean BPM Over the Years')\n",
    "_ = plt.xlabel('year')\n",
    "_ = plt.ylabel('bpm (beats per minute)')"
   ]
  },
  {
   "cell_type": "markdown",
   "id": "19422dbb-bab7-4f78-a3d6-6130311a48d6",
   "metadata": {},
   "source": [
    "## Mean Duration Over the Years"
   ]
  },
  {
   "cell_type": "markdown",
   "id": "4b95919b-d117-4f29-846f-74feb0c847a1",
   "metadata": {},
   "source": [
    "**Next I will look at how duration of the top songs has changed over the years. I will do this by computing the mean duration over all the tops songs for each year and graph them together.**"
   ]
  },
  {
   "cell_type": "code",
   "execution_count": 6,
   "id": "1f838fa9-bbd7-41ff-926e-971d4a2f549f",
   "metadata": {},
   "outputs": [
    {
     "data": {
      "image/png": "[encoded data removed]",
      "text/plain": [
       "<Figure size 1296x360 with 1 Axes>"
      ]
     },
     "metadata": {
      "needs_background": "light"
     },
     "output_type": "display_data"
    }
   ],
   "source": [
    "_ = plt.figure(figsize = (18,5))\n",
    "plt.ylim(160, 240)\n",
    "_ = plt.bar('2010', top_2010.dur.mean())\n",
    "_ = plt.bar('2011', top_2011.dur.mean())\n",
    "_ = plt.bar('2012', top_2012.dur.mean())\n",
    "_ = plt.bar('2013', top_2013.dur.mean())\n",
    "_ = plt.bar('2014', top_2014.dur.mean())\n",
    "_ = plt.bar('2015', top_2015.dur.mean())\n",
    "_ = plt.bar('2016', top_2016.dur.mean())\n",
    "_ = plt.bar('2017', top_2017.dur.mean())\n",
    "_ = plt.bar('2018', top_2018.dur.mean())\n",
    "_ = plt.bar('2019', top_2019.dur.mean())\n",
    "_ = plt.title('Mean Duration Over the Years')\n",
    "_ = plt.xlabel('year')\n",
    "_ = plt.ylabel('seconds')"
   ]
  },
  {
   "cell_type": "markdown",
   "id": "0293e990-f5d3-49a8-bd7a-99f6b0d24b5c",
   "metadata": {},
   "source": [
    "## Mean Energy Over the Years"
   ]
  },
  {
   "cell_type": "markdown",
   "id": "15ac4957-6155-41d9-afd5-4e0bfbf59578",
   "metadata": {},
   "source": [
    "**Next I will look at how energy of the top songs has changed over the years. I will do this by computing the mean energy over all the tops songs for each year and graph them together. Energy is how energetic the song is. I am not sure how it was computed but a higher number means more energetic.**"
   ]
  },
  {
   "cell_type": "code",
   "execution_count": 7,
   "id": "e64fbb6f-74c9-45c6-81f4-24cffe483d91",
   "metadata": {},
   "outputs": [
    {
     "data": {
      "image/png": "[encoded data removed]",
      "text/plain": [
       "<Figure size 1296x360 with 1 Axes>"
      ]
     },
     "metadata": {
      "needs_background": "light"
     },
     "output_type": "display_data"
    }
   ],
   "source": [
    "_ = plt.figure(figsize = (18,5))\n",
    "plt.ylim(60, 80)\n",
    "_ = plt.bar('2010', top_2010.nrgy.mean())\n",
    "_ = plt.bar('2011', top_2011.nrgy.mean())\n",
    "_ = plt.bar('2012', top_2012.nrgy.mean())\n",
    "_ = plt.bar('2013', top_2013.nrgy.mean())\n",
    "_ = plt.bar('2014', top_2014.nrgy.mean())\n",
    "_ = plt.bar('2015', top_2015.nrgy.mean())\n",
    "_ = plt.bar('2016', top_2016.nrgy.mean())\n",
    "_ = plt.bar('2017', top_2017.nrgy.mean())\n",
    "_ = plt.bar('2018', top_2018.nrgy.mean())\n",
    "_ = plt.bar('2019', top_2019.nrgy.mean())\n",
    "_ = plt.title('Mean Energy Over the Years')\n",
    "_ = plt.xlabel('year')\n",
    "_ = plt.ylabel('higher the number the more energetic')"
   ]
  },
  {
   "cell_type": "markdown",
   "id": "458422d2-9b1d-4d78-87b5-441ea572bee5",
   "metadata": {},
   "source": [
    "## Mean Danceability Over the Years"
   ]
  },
  {
   "cell_type": "markdown",
   "id": "07d0ca5a-529b-4e7d-a687-7785a1ee17a9",
   "metadata": {},
   "source": [
    "**Next I will look at how danceable of the top songs has changed over the years. I will do this by computing the mean danceability score over all the tops songs for each year and graph them together. Danceability is how easy it is to dance to the song. I am not sure how it was computed but a higher number means more danceable.**"
   ]
  },
  {
   "cell_type": "code",
   "execution_count": 8,
   "id": "ed3847a9-e278-4bc7-84ea-ad6a30566e21",
   "metadata": {},
   "outputs": [
    {
     "data": {
      "image/png": "[encoded data removed]",
      "text/plain": [
       "<Figure size 1296x360 with 1 Axes>"
      ]
     },
     "metadata": {
      "needs_background": "light"
     },
     "output_type": "display_data"
    }
   ],
   "source": [
    "_ = plt.figure(figsize = (18,5))\n",
    "plt.ylim(60, 75)\n",
    "_ = plt.bar('2010', top_2010.dnce.mean())\n",
    "_ = plt.bar('2011', top_2011.dnce.mean())\n",
    "_ = plt.bar('2012', top_2012.dnce.mean())\n",
    "_ = plt.bar('2013', top_2013.dnce.mean())\n",
    "_ = plt.bar('2014', top_2014.dnce.mean())\n",
    "_ = plt.bar('2015', top_2015.dnce.mean())\n",
    "_ = plt.bar('2016', top_2016.dnce.mean())\n",
    "_ = plt.bar('2017', top_2017.dnce.mean())\n",
    "_ = plt.bar('2018', top_2018.dnce.mean())\n",
    "_ = plt.bar('2019', top_2019.dnce.mean())\n",
    "_ = plt.title('Mean Danceability Over the Years')\n",
    "_ = plt.xlabel('year')\n",
    "_ = plt.ylabel('higher the number the more danceable')"
   ]
  },
  {
   "cell_type": "markdown",
   "id": "6537f1ec-3f10-4778-b880-2eb2801d26f8",
   "metadata": {},
   "source": [
    "## Mean Liveliness Over the Years"
   ]
  },
  {
   "cell_type": "markdown",
   "id": "3cee63e2-2022-47d6-ab67-a572100b2765",
   "metadata": {},
   "source": [
    "**Next I will look at the liveliness of the top songs has changed over the years. I will do this by computing the mean liveliness score over all the tops songs for each year and graph them together. Liveliness is how likely the song is a live recording. I am not sure how it was computed but a higher number means more lively to be live.**"
   ]
  },
  {
   "cell_type": "code",
   "execution_count": 9,
   "id": "183fb572-307f-470f-bbaa-2e10b08efe58",
   "metadata": {},
   "outputs": [
    {
     "data": {
      "image/png": "[encoded data removed]",
      "text/plain": [
       "<Figure size 1296x360 with 1 Axes>"
      ]
     },
     "metadata": {
      "needs_background": "light"
     },
     "output_type": "display_data"
    }
   ],
   "source": [
    "_ = plt.figure(figsize = (18,5))\n",
    "plt.ylim(12, 22)\n",
    "_ = plt.bar('2010', top_2010.live.mean())\n",
    "_ = plt.bar('2011', top_2011.live.mean())\n",
    "_ = plt.bar('2012', top_2012.live.mean())\n",
    "_ = plt.bar('2013', top_2013.live.mean())\n",
    "_ = plt.bar('2014', top_2014.live.mean())\n",
    "_ = plt.bar('2015', top_2015.live.mean())\n",
    "_ = plt.bar('2016', top_2016.live.mean())\n",
    "_ = plt.bar('2017', top_2017.live.mean())\n",
    "_ = plt.bar('2018', top_2018.live.mean())\n",
    "_ = plt.bar('2019', top_2019.live.mean())\n",
    "_ = plt.title('Mean Liveliness Over the Years')\n",
    "_ = plt.xlabel('year')\n",
    "_ = plt.ylabel('higher number means more likely to be a live recording')"
   ]
  },
  {
   "cell_type": "markdown",
   "id": "353f5260-ecc8-44e8-8a38-ce3ddc2fab99",
   "metadata": {},
   "source": [
    "## Mean Acousticness Over the Years"
   ]
  },
  {
   "cell_type": "markdown",
   "id": "6c7ccc06-ac46-4e4e-aaaf-8ae9f8979bba",
   "metadata": {},
   "source": [
    "**Next I will look at the acoustiness of the top songs has changed over the years. I will do this by computing the mean acousticness score over all the tops songs for each year and graph them together. Acousticness is how acoustic the song is. I am not sure how it was computed but a higher number means the more acoustic.**"
   ]
  },
  {
   "cell_type": "code",
   "execution_count": 10,
   "id": "924df31c-ae90-403e-9ff1-9efaa438f2d7",
   "metadata": {},
   "outputs": [
    {
     "data": {
      "image/png": "[encoded data removed]",
      "text/plain": [
       "<Figure size 1296x360 with 1 Axes>"
      ]
     },
     "metadata": {
      "needs_background": "light"
     },
     "output_type": "display_data"
    }
   ],
   "source": [
    "_ = plt.figure(figsize = (18,5))\n",
    "_ = plt.bar('2010', top_2010.acous.mean())\n",
    "_ = plt.bar('2011', top_2011.acous.mean())\n",
    "_ = plt.bar('2012', top_2012.acous.mean())\n",
    "_ = plt.bar('2013', top_2013.acous.mean())\n",
    "_ = plt.bar('2014', top_2014.acous.mean())\n",
    "_ = plt.bar('2015', top_2015.acous.mean())\n",
    "_ = plt.bar('2016', top_2016.acous.mean())\n",
    "_ = plt.bar('2017', top_2017.acous.mean())\n",
    "_ = plt.bar('2018', top_2018.acous.mean())\n",
    "_ = plt.bar('2019', top_2019.acous.mean())\n",
    "_ = plt.title('Mean Acoustiness Over the Years')\n",
    "_ = plt.xlabel('year')\n",
    "_ = plt.ylabel('higher the number means more acoustic')"
   ]
  },
  {
   "cell_type": "markdown",
   "id": "0aa1c4af-7a82-4ca1-87dc-b02284c70a5d",
   "metadata": {},
   "source": [
    "## Importance of different factors throughout the years"
   ]
  },
  {
   "cell_type": "markdown",
   "id": "2777128c-6d6f-4782-8d8d-c80ab8756c82",
   "metadata": {},
   "source": [
    "**Now that I have examined the changing trends of each factor independentaly, I want to see how they work together and have changed over the years in relation to one another.**"
   ]
  },
  {
   "cell_type": "markdown",
   "id": "6303ede0-513b-46e4-bfb9-6647e41de0c3",
   "metadata": {},
   "source": [
    "**I will again use the mean of each year for each factor and use a line graph to plot the means throughout the years to see the trends. I will create a list for each factor and add the means for each year to make it easier to plot.**"
   ]
  },
  {
   "cell_type": "code",
   "execution_count": 11,
   "id": "bb40e54f-a4c3-4438-b4b5-f6041eb0ddbf",
   "metadata": {},
   "outputs": [],
   "source": [
    "bpm_means = []\n",
    "bpm_means.append(top_2010.bpm.mean())\n",
    "bpm_means.append(top_2011.bpm.mean())\n",
    "bpm_means.append(top_2012.bpm.mean())\n",
    "bpm_means.append(top_2013.bpm.mean())\n",
    "bpm_means.append(top_2014.bpm.mean())\n",
    "bpm_means.append(top_2015.bpm.mean())\n",
    "bpm_means.append(top_2016.bpm.mean())\n",
    "bpm_means.append(top_2017.bpm.mean())\n",
    "bpm_means.append(top_2018.bpm.mean())\n",
    "bpm_means.append(top_2019.bpm.mean())"
   ]
  },
  {
   "cell_type": "code",
   "execution_count": 12,
   "id": "9f8978c5-2538-4ebd-8d5b-d6ce4149ec8d",
   "metadata": {},
   "outputs": [],
   "source": [
    "energy_means = []\n",
    "energy_means.append(top_2010.nrgy.mean())\n",
    "energy_means.append(top_2011.nrgy.mean())\n",
    "energy_means.append(top_2012.nrgy.mean())\n",
    "energy_means.append(top_2013.nrgy.mean())\n",
    "energy_means.append(top_2014.nrgy.mean())\n",
    "energy_means.append(top_2015.nrgy.mean())\n",
    "energy_means.append(top_2016.nrgy.mean())\n",
    "energy_means.append(top_2017.nrgy.mean())\n",
    "energy_means.append(top_2018.nrgy.mean())\n",
    "energy_means.append(top_2019.nrgy.mean())"
   ]
  },
  {
   "cell_type": "code",
   "execution_count": 13,
   "id": "4f68a840-39db-42fe-8561-4a0ffb033a9c",
   "metadata": {},
   "outputs": [],
   "source": [
    "dance_means = []\n",
    "dance_means.append(top_2010.dnce.mean())\n",
    "dance_means.append(top_2011.dnce.mean())\n",
    "dance_means.append(top_2012.dnce.mean())\n",
    "dance_means.append(top_2013.dnce.mean())\n",
    "dance_means.append(top_2014.dnce.mean())\n",
    "dance_means.append(top_2015.dnce.mean())\n",
    "dance_means.append(top_2016.dnce.mean())\n",
    "dance_means.append(top_2017.dnce.mean())\n",
    "dance_means.append(top_2018.dnce.mean())\n",
    "dance_means.append(top_2019.dnce.mean())"
   ]
  },
  {
   "cell_type": "code",
   "execution_count": 14,
   "id": "f8d3d889-e819-44fc-89ce-be40df4bb59a",
   "metadata": {},
   "outputs": [],
   "source": [
    "live_means = []\n",
    "live_means.append(top_2010.live.mean())\n",
    "live_means.append(top_2011.live.mean())\n",
    "live_means.append(top_2012.live.mean())\n",
    "live_means.append(top_2013.live.mean())\n",
    "live_means.append(top_2014.live.mean())\n",
    "live_means.append(top_2015.live.mean())\n",
    "live_means.append(top_2016.live.mean())\n",
    "live_means.append(top_2017.live.mean())\n",
    "live_means.append(top_2018.live.mean())\n",
    "live_means.append(top_2019.live.mean())"
   ]
  },
  {
   "cell_type": "code",
   "execution_count": 15,
   "id": "bdd75616-6bb8-4170-a18b-c95f11e36814",
   "metadata": {},
   "outputs": [],
   "source": [
    "acous_means = []\n",
    "acous_means.append(top_2010.acous.mean())\n",
    "acous_means.append(top_2011.acous.mean())\n",
    "acous_means.append(top_2012.acous.mean())\n",
    "acous_means.append(top_2013.acous.mean())\n",
    "acous_means.append(top_2014.acous.mean())\n",
    "acous_means.append(top_2015.acous.mean())\n",
    "acous_means.append(top_2016.acous.mean())\n",
    "acous_means.append(top_2017.acous.mean())\n",
    "acous_means.append(top_2018.acous.mean())\n",
    "acous_means.append(top_2019.acous.mean())"
   ]
  },
  {
   "cell_type": "code",
   "execution_count": 16,
   "id": "b9d0ffaf-2465-41f1-b74a-1173d659de67",
   "metadata": {},
   "outputs": [],
   "source": [
    "duration_means = []\n",
    "duration_means.append(top_2010.dur.mean())\n",
    "duration_means.append(top_2011.dur.mean())\n",
    "duration_means.append(top_2012.dur.mean())\n",
    "duration_means.append(top_2013.dur.mean())\n",
    "duration_means.append(top_2014.dur.mean())\n",
    "duration_means.append(top_2015.dur.mean())\n",
    "duration_means.append(top_2016.dur.mean())\n",
    "duration_means.append(top_2017.dur.mean())\n",
    "duration_means.append(top_2018.dur.mean())\n",
    "duration_means.append(top_2019.dur.mean())"
   ]
  },
  {
   "cell_type": "markdown",
   "id": "b5764bf5-e422-4f8f-9388-142897201a65",
   "metadata": {},
   "source": [
    "**Now that I have 6 lists with all the factors and means I am going to graph them on a line graph.**"
   ]
  },
  {
   "cell_type": "code",
   "execution_count": 17,
   "id": "24791dc6-5ae6-422f-b381-0f619556f0f7",
   "metadata": {},
   "outputs": [
    {
     "data": {
      "image/png": "[encoded data removed]",
      "text/plain": [
       "<Figure size 1296x936 with 1 Axes>"
      ]
     },
     "metadata": {
      "needs_background": "light"
     },
     "output_type": "display_data"
    }
   ],
   "source": [
    "years = ['2010', '2011', '2012', '2013', '2014', '2015', '2016', '2017', '2018', '2019']\n",
    "_ = plt.figure(figsize = (18,13))\n",
    "_ = plt.plot(years, bpm_means, label = 'bpm')\n",
    "_ = plt.plot(years, duration_means, label = 'duration')\n",
    "_ = plt.plot(years, energy_means, label = 'energy')\n",
    "_ = plt.plot(years, dance_means, label = 'danceability')\n",
    "_ = plt.plot(years, live_means, label = 'liveliness')\n",
    "_ = plt.plot(years, acous_means, label = 'acoustiness')\n",
    "_ = plt.legend()\n",
    "_ = plt.title('Trends Over the Years')"
   ]
  },
  {
   "cell_type": "markdown",
   "id": "deae435d-2b8d-42b3-8671-c6a28d1804be",
   "metadata": {},
   "source": [
    "# Findings"
   ]
  },
  {
   "cell_type": "markdown",
   "id": "0ff19af9-44ab-4a67-bd89-24d487251c2b",
   "metadata": {},
   "source": [
    "1. The mean BPM has fluctuated between the years 2010-2019 but has stayed within the range of 120-127\n",
    "2. The mean duration of songs has fluctuated over the years but has generally gone down, especially in between 2017-2019. The top songs are on average shorter now.\n",
    "3. The mean energy has decreased over the years alot too going from a score of 77 in 2010 to 63 in 2019. \n",
    "4. The mean danceability has seen ups and downs over the years but has generally increased an stayed at high score between 2017-2019. It saw a low at 63 in 2012 and a high a 73 in 2019.\n",
    "5. The mean liveliness has fluctuated in the early years but has been decreasing since 2014 and dropped to its lowest score in 2019. \n",
    "6. The mean acousticness has fluctuated but has been slowly increasing and it at its higest score since 2018. \n",
    "7. We can see from the graph that duration of the top songs has been decreasing. We also see how the top songs used to have higher energy scores than danceability but in 2015 that switched and danceability scores were higher than energy in the top songs. Liveliness also used to have a higher score than acoustincess till 2015 and since then the two have been going up and down in their importance level over the other."
   ]
  },
  {
   "cell_type": "markdown",
   "id": "1ecf7e18-8604-47d3-a388-8b398a9afbe2",
   "metadata": {},
   "source": [
    "# Implications"
   ]
  },
  {
   "cell_type": "markdown",
   "id": "3c03787e-d7a1-4d0d-aaa2-f6f83a5f74b2",
   "metadata": {},
   "source": [
    "This is quite interesting to me to see how these factors have changed over the years. It makes me look at my own favorite songs from each of the years and think critically and see if they match what the trend for that year was. But overall I think that artists that are trying to use a \"formula\" for getting a hit song should be wary of doing that because from year to the next there was not always consistency in the factors that were common between all the top songs. While many of the factors still had a range of values that the factor stayed in in 10 year time span, the values from year to year was not the same. "
   ]
  },
  {
   "cell_type": "markdown",
   "id": "7492c367-f117-4383-93dd-2003d39b4a48",
   "metadata": {},
   "source": [
    "Some limitations of the study are that I am not really sure how some of the varibales were calculated such as danceability and liveliness. Although this doesnt necessarily impact the results becuase the same method of computation was used for all 10 years, it is still not clear what the implications of a low dance score mean to someone such as an artist who may be trying to create a top song.  "
   ]
  },
  {
   "cell_type": "markdown",
   "id": "96265e94-78bd-4c52-bba6-726d2bfb308c",
   "metadata": {},
   "source": [
    "# Conclusion"
   ]
  },
  {
   "cell_type": "markdown",
   "id": "4d968bd2-84de-43ca-9f5e-9ad4983f45fa",
   "metadata": {},
   "source": [
    "The overall goal of this study was to investigate the factors that make a top song and whether or not those have changed in the last 10 years. In conclusion, I found that the trends changed each to year. Some years energy of a song was more popular than the dancability and othe years vice versa. I also that indiviudal factors varied alot year to year with the overall duration of the top songs decreasing over the last 10 years and same with liveliness. Overall there is no recipe for success for a top song and that peoples taste chages and evoloves over the years."
   ]
  }
 ],
 "metadata": {
  "kernelspec": {
   "display_name": "Python 3 (ipykernel)",
   "language": "python",
   "name": "python3"
  },
  "language_info": {
   "codemirror_mode": {
    "name": "ipython",
    "version": 3
   },
   "file_extension": ".py",
   "mimetype": "text/x-python",
   "name": "python",
   "nbconvert_exporter": "python",
   "pygments_lexer": "ipython3",
   "version": "3.9.7"
  }
 },
 "nbformat": 4,
 "nbformat_minor": 5
}
