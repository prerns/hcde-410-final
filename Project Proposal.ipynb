{
 "cells": [
  {
   "cell_type": "markdown",
   "id": "45322f94-8e7c-4377-ad89-07e36c7e37d0",
   "metadata": {
    "tags": []
   },
   "source": [
    "# Project Proposal"
   ]
  },
  {
   "cell_type": "markdown",
   "id": "234f22e2-e2ef-4127-8b9b-9aa1687a3dd6",
   "metadata": {},
   "source": [
    "## Motivation and Problem Statment"
   ]
  },
  {
   "cell_type": "markdown",
   "id": "234a374b-8757-42fe-90cc-e8c2e1fdeb0f",
   "metadata": {},
   "source": [
    "I want to do this analysis because I want to see if there are any trends related to the top music of each year, and through the years. This could include the genre of top songs over the years, the tempo or duration. This is interesting because it breaks into how peoples taste in music may have changed over the years and what those liked were in each specific year and help new artists know what to possible integrate into their work to have success. I hope to learn what the similarities and trends are that make the top songs each year."
   ]
  },
  {
   "cell_type": "markdown",
   "id": "53246338-91f0-467d-a739-980a90cced8b",
   "metadata": {},
   "source": [
    "## About the data"
   ]
  },
  {
   "cell_type": "markdown",
   "id": "f231a890-8257-43ee-905f-762e09f60314",
   "metadata": {},
   "source": [
    "My dataset contains metadata on the top hits of songs from Spotify in the years 2010-2019 <https://www.kaggle.com/datasets/muhmores/spotify-top-100-songs-of-20152019n>. The data in this dataset is captured straight from Spotify itself which has open APIs for developers to use and get data from Spotify. I looked into the Spotify terms and conditions <https://www.spotify.com/us/legal/end-user-agreement/> as well as the Spotify for Developers terms and conditions <https://developer.spotify.com/terms/> and from what I can figure out this has a License to Developer, I would more support in this area thought because I’m not sure if I’m correct or not. This dataset is perfect for my research goal because it provides all the metadata I would need and more to be able to find potential trends in the music that would answer my questions. There aren’t really any ethical concerns with this dataset because it regards open access music."
   ]
  },
  {
   "cell_type": "markdown",
   "id": "a13a08c2-dc4e-40b1-be4d-36558f499493",
   "metadata": {},
   "source": [
    "## Unknowns"
   ]
  },
  {
   "cell_type": "markdown",
   "id": "b61ad691-d6e3-4d6c-af46-d5c3f02233dc",
   "metadata": {},
   "source": [
    "I think this project is very doable by the end of the quarter and in excited to be working on it. </p>\n",
    "\n"
   ]
  },
  {
   "cell_type": "markdown",
   "id": "dc92ed6a-66ee-416a-be4a-2837b6baf7c5",
   "metadata": {},
   "source": [
    "## Research Questions"
   ]
  },
  {
   "cell_type": "markdown",
   "id": "1818a575-9805-4513-b4af-41c7fe61eaa0",
   "metadata": {},
   "source": [
    "What meta data contributes to a song being a top hit? Is there a relationship between bpm and a top hit song? Does the danceability score of a song have anything to do with being a top hit? Is duration of a song an indicator of a top song? Does each year have different aspects that make the top songs for each year?"
   ]
  },
  {
   "cell_type": "markdown",
   "id": "e71aec6f-08b7-4a08-8ab9-983d2c1d8317",
   "metadata": {},
   "source": [
    "## Background Research"
   ]
  },
  {
   "cell_type": "markdown",
   "id": "4774afba-0f8d-400c-83b1-99196f705e0c",
   "metadata": {},
   "source": [
    "Columbia Business School conducted research that looked at different aspects of the top song of each year for 60 years (https://www8.gsb.columbia.edu/articles/projects/what-makes-a-hit/). They discovered that each year or era has different characteristics that made it a top song. Some years high energy was the common characteristic. Other years acousticness was the common factor. Overall, they said that ““Breakout songs — those that reach the very top of the charts — simultaneously conform to prevailing musical feature profiles while exhibiting some degree of individuality or novelty,”. The same result was found in a similar study done by a UK university where they used AI to classify top songs and learn what made them successful and create an app that could tell you if the song would be a hit or not https://www.latimes.com/archives/la-xpm-2012-feb-03-la-sci-hit-songs-computer-20120204-story.html ). They also found that each year and era had different aspects to the popular songs. They found for example that “Danceability was not important in distinguishing top and bottom songs until the late ‘70s.But from 1980 it became really important, maybe in relation to the rise of disco, electronic dance music and other later music.”"
   ]
  },
  {
   "cell_type": "markdown",
   "id": "8f9ae384-8936-4db8-8f22-3783b6256243",
   "metadata": {},
   "source": [
    "This previous research makes me curious what kind of new trends have come in the more recent years for music. I want to see what trends have changed in the most current past years because I have lived through those years as well and it would be interesting to see if I agree with the change of music taste the results would show. "
   ]
  },
  {
   "cell_type": "markdown",
   "id": "e21ddcfe-01fb-4d9c-8f66-1c4143e19be1",
   "metadata": {},
   "source": [
    "## Methodology"
   ]
  },
  {
   "cell_type": "markdown",
   "id": "b777bd13-653e-4451-bc19-44c3bc4fca44",
   "metadata": {},
   "source": [
    "For each year I want to graph the mean bpm, energy, danceability, duration, liveliness and acousticness for all the top songs of that year and see the trend of each factor throughout the years. I will use a line graph for this.\n",
    "- This will help me understand if certain factors have grown in importance over the years while others have decreased in relation to each other based on the lines\n"
   ]
  },
  {
   "cell_type": "markdown",
   "id": "50d9def7-32a8-4387-bb5a-bb336be0450a",
   "metadata": {},
   "source": [
    "Then for each of those song factors I want to create a bar chart for each year and graph the mean value for each year (so 6 different graphs). \n",
    "- This will help me understand the variability of one factor at a time throughout the years based on bar height"
   ]
  },
  {
   "cell_type": "markdown",
   "id": "4707df72-c489-4f25-b758-446c40fe25c6",
   "metadata": {},
   "source": [
    "For 2019 specifically, I want to graph each factor for each song on the list and see if there are similarities between all the top songs for specific year. I will use a scatter plot  to plat each song for each factor. \n",
    "- This will allow me to see whether top songs within the same year and more alike or different from each other based on clutters of dots. "
   ]
  },
  {
   "cell_type": "markdown",
   "id": "39b639d4-76fb-4b40-8c03-c8d7e486cbd9",
   "metadata": {},
   "source": [
    "If time permits I want to create a regression model that relates multiple different factors to the rank of the song. For example for every 30 beat increase in bpm, the songs will increase in rank by 1. \n",
    "- This will be insightful in seeing a linear formula that may be applied to see ranking of songs based on different factors of songs. "
   ]
  }
 ],
 "metadata": {
  "kernelspec": {
   "display_name": "Python 3 (ipykernel)",
   "language": "python",
   "name": "python3"
  },
  "language_info": {
   "codemirror_mode": {
    "name": "ipython",
    "version": 3
   },
   "file_extension": ".py",
   "mimetype": "text/x-python",
   "name": "python",
   "nbconvert_exporter": "python",
   "pygments_lexer": "ipython3",
   "version": "3.9.7"
  }
 },
 "nbformat": 4,
 "nbformat_minor": 5
}
